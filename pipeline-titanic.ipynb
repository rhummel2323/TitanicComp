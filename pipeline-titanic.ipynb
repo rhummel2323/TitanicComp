{
 "cells": [
  {
   "cell_type": "code",
   "execution_count": 2,
   "id": "a5afe8dd-a5cc-400f-86ac-80fad271dcf5",
   "metadata": {},
   "outputs": [],
   "source": [
    "import numpy as np\n",
    "import pandas as pd\n",
    "#import matplotlib.pyplot as plt\n",
    "#from sklearn import LinearRegression, Lasso, Ridge, LassoLars, DecisionTreeRegressor,  RandomForestRegressor, AdaBoostRegressor, GradientBoostingRegressor\n",
    "import sklearn as sk"
   ]
  },
  {
   "cell_type": "code",
   "execution_count": 3,
   "id": "4d578e93-549f-48e5-bc80-a73a80300397",
   "metadata": {},
   "outputs": [],
   "source": [
    "# Reading Data File\n",
    "titanic_data_file_path = 'train.csv'\n",
    "df = pd.read_csv(titanic_data_file_path)"
   ]
  },
  {
   "cell_type": "code",
   "execution_count": null,
   "id": "67fdcd45-6ece-447b-bea3-4ee5a735d54e",
   "metadata": {},
   "outputs": [],
   "source": []
  }
 ],
 "metadata": {
  "kernelspec": {
   "display_name": "d2l:Python",
   "language": "python",
   "name": "conda-env-d2l-py"
  },
  "language_info": {
   "codemirror_mode": {
    "name": "ipython",
    "version": 3
   },
   "file_extension": ".py",
   "mimetype": "text/x-python",
   "name": "python",
   "nbconvert_exporter": "python",
   "pygments_lexer": "ipython3",
   "version": "3.9.13"
  }
 },
 "nbformat": 4,
 "nbformat_minor": 5
}
